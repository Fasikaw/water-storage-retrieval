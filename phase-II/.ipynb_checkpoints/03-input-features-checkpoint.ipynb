{
 "cells": [
  {
   "cell_type": "markdown",
   "metadata": {},
   "source": [
    "# Phase II: Input Features Extraction"
   ]
  },
  {
   "cell_type": "markdown",
   "metadata": {},
   "source": [
    "Import required modules."
   ]
  },
  {
   "cell_type": "code",
   "execution_count": 1,
   "metadata": {},
   "outputs": [],
   "source": [
    "import numpy as np\n",
    "import ee\n",
    "import pandas as pd"
   ]
  },
  {
   "cell_type": "markdown",
   "metadata": {},
   "source": [
    "Initialize Google Earth Engine."
   ]
  },
  {
   "cell_type": "code",
   "execution_count": 2,
   "metadata": {},
   "outputs": [],
   "source": [
    "ee.Initialize()"
   ]
  },
  {
   "cell_type": "markdown",
   "metadata": {},
   "source": [
    "Path to your GEE assets."
   ]
  },
  {
   "cell_type": "code",
   "execution_count": 3,
   "metadata": {},
   "outputs": [],
   "source": [
    "path_assets = \"users/dmlmont/TFM/\""
   ]
  },
  {
   "cell_type": "markdown",
   "metadata": {},
   "source": [
    "## Input Features"
   ]
  },
  {
   "cell_type": "markdown",
   "metadata": {},
   "source": [
    "### Cumulative Cost\n",
    "\n",
    "The following function computes the cumulative cost as the distance from each pixel inside `waterMask` and `ROI` to the closest shoreline coordinates."
   ]
  },
  {
   "cell_type": "code",
   "execution_count": null,
   "metadata": {},
   "outputs": [],
   "source": [
    "def depthCumulativeCost(waterMask,ROI,scale = 10,maxDistance = 1000):\n",
    "\n",
    "    water_poly = waterMask.reduceToVectors(geometry = ROI,scale = scale,eightConnected = False)\n",
    "    water_poly = water_poly.filter(ee.Filter.eq('label',1))\n",
    "\n",
    "    df = water_poly.geometry().coordinates().getInfo()\n",
    "    lines = []\n",
    "    \n",
    "    if len(np.array(df[0]).shape) == 2:\n",
    "        for i in range(len(df)):            \n",
    "            lines.append(ee.Geometry.LineString(df[i]))\n",
    "    \n",
    "    elif len(np.array(df[0]).shape) == 3:\n",
    "        for i in range(len(df)):\n",
    "            for j in range(len(df[i])):\n",
    "                lines.append(ee.Geometry.LineString(df[i][j]))\n",
    "\n",
    "    allLines = ee.FeatureCollection(lines)\n",
    "\n",
    "    sources = ee.Image().toByte().paint(allLines, 1)\n",
    "    sources = sources.updateMask(sources)\n",
    "\n",
    "    cumulativeCost = waterMask.cumulativeCost(source = sources,maxDistance = maxDistance).updateMask(waterMask)\n",
    "    \n",
    "    return cumulativeCost"
   ]
  },
  {
   "cell_type": "markdown",
   "metadata": {},
   "source": [
    "### Lyzenga Transform\n",
    "\n",
    "Lyzenga Transform (LT) is computed here. Deep waters average `xs` is set to zero."
   ]
  },
  {
   "cell_type": "code",
   "execution_count": null,
   "metadata": {},
   "outputs": [],
   "source": [
    "def lyzengaTransform(x,xs = 0):\n",
    "    \n",
    "    return np.log(x - xs)"
   ]
  },
  {
   "cell_type": "markdown",
   "metadata": {},
   "source": [
    "### Ratio Transform\n",
    "\n",
    "Ratio Transform (RT) is computed here. `n` value is set to 1."
   ]
  },
  {
   "cell_type": "code",
   "execution_count": null,
   "metadata": {},
   "outputs": [],
   "source": [
    "def ratioTransform(x,y,n = 1):\n",
    "    \n",
    "    return np.log(n*x)/np.log(n*y)"
   ]
  },
  {
   "cell_type": "markdown",
   "metadata": {},
   "source": [
    "### Add Transformations to Data Frame\n",
    "\n",
    "This function computes LT and RT for a given data frame that contains the Sentinel-2 10 m bands as columns."
   ]
  },
  {
   "cell_type": "code",
   "execution_count": null,
   "metadata": {},
   "outputs": [],
   "source": [
    "def addTransformationsToDataFrame(df):\n",
    "    \n",
    "    df['LT2'] = lyzengaTransform(df['B2'])\n",
    "    df['LT3'] = lyzengaTransform(df['B3'])\n",
    "    df['LT4'] = lyzengaTransform(df['B4'])\n",
    "    df['LT8'] = lyzengaTransform(df['B8'])\n",
    "\n",
    "    df['RT23'] = ratioTransform(df['B2'],df['B3'])\n",
    "    df['RT24'] = ratioTransform(df['B2'],df['B4'])\n",
    "    df['RT28'] = ratioTransform(df['B2'],df['B8'])\n",
    "    df['RT34'] = ratioTransform(df['B3'],df['B4'])\n",
    "    df['RT38'] = ratioTransform(df['B3'],df['B8'])\n",
    "    df['RT48'] = ratioTransform(df['B4'],df['B8'])\n",
    "    \n",
    "    return df    "
   ]
  },
  {
   "cell_type": "markdown",
   "metadata": {},
   "source": [
    "## Extract Data to Data Frame\n",
    "\n",
    "The following function extracts the data from an `image` for a given set of coordinates in `df`, defined in the columns `dfCols`. Since GEE doesn't allow processing of more than 5000 points, a `batchsize` is established. The extracted data is joined to the original `df` (`joinData`) and returned as a pandas data frame (`toPandas`)."
   ]
  },
  {
   "cell_type": "code",
   "execution_count": null,
   "metadata": {},
   "outputs": [],
   "source": [
    "def pixelDataFromCoordinates(image,df,dfCols = [0,1],batchSize = 5000,scale = 10,joinData = True,toPandas = True):\n",
    "    \n",
    "    extractedData = []\n",
    "\n",
    "    k = 0\n",
    "    \n",
    "    while k <= df.shape[0]:\n",
    "        \n",
    "        pointFeatures = []\n",
    "\n",
    "        initial = k\n",
    "        \n",
    "        if k + batchSize > df.shape[0]:\n",
    "            final = df.shape[0]\n",
    "        else:\n",
    "            final = k + batchSize\n",
    "                \n",
    "        for i in range(initial,final):\n",
    "            pointFeatures.append(ee.Geometry.Point([df[i,dfCols[0]],df[i,dfCols[1]]]))\n",
    "\n",
    "        fromList = ee.FeatureCollection(pointFeatures)\n",
    "\n",
    "        imageDictionary = image.reduceRegions(collection = fromList,reducer = ee.Reducer.first(),scale = scale)\n",
    "\n",
    "        features = imageDictionary.getInfo()['features']\n",
    "\n",
    "        for i in range(len(features)):\n",
    "            extractedData.append(list(features[i]['properties'].values()))\n",
    "\n",
    "        k = k + batchSize\n",
    "    \n",
    "    if joinData:\n",
    "        extractedData = np.concatenate((df,np.array(extractedData)),axis = 1)\n",
    "    \n",
    "    if toPandas:\n",
    "        extractedData = pd.DataFrame(extractedData)\n",
    "    \n",
    "    return extractedData"
   ]
  },
  {
   "cell_type": "markdown",
   "metadata": {},
   "source": [
    "## Extract Data from Study Cases"
   ]
  },
  {
   "cell_type": "markdown",
   "metadata": {},
   "source": [
    "### Alto-Lindoso"
   ]
  },
  {
   "cell_type": "code",
   "execution_count": 4,
   "metadata": {},
   "outputs": [],
   "source": [
    "ROI = ee.Geometry.Rectangle([-8.2260339,41.8596283,-8.0632989,41.9309290])"
   ]
  },
  {
   "cell_type": "code",
   "execution_count": null,
   "metadata": {},
   "outputs": [],
   "source": [
    "wmp = ee.Image(path_assets + 'WMp_Alto_Lindoso')\n",
    "img = ee.Image(path_assets + 'Pre_Alto_Lindoso')\n",
    "\n",
    "cumCost = depthCumulativeCost(wmp,ROI)\n",
    "toExtract = img.addBands(cumCost)"
   ]
  },
  {
   "cell_type": "code",
   "execution_count": null,
   "metadata": {},
   "outputs": [],
   "source": [
    "coords = pd.read_csv(\"../data/phase-II/IDW/Alto_Lindoso_3.5_wmp.csv\",sep = \" \",usecols = [0,2,3])\n",
    "coords.columns = ['z','x','y']\n",
    "coords = pixelDataFromCoordinates(toExtract,np.array(coords),coordsCols = [1,2])\n",
    "coords.columns = ['z','x','y','B2','B3','B4','B8','CumCost']"
   ]
  },
  {
   "cell_type": "code",
   "execution_count": null,
   "metadata": {},
   "outputs": [],
   "source": [
    "coords = addTransformationsToDataFrame(coords)\n",
    "coords.to_csv(\"../data/phase-II/complete-dataset/data_A.csv\",index = False)"
   ]
  },
  {
   "cell_type": "markdown",
   "metadata": {},
   "source": [
    "### Bubal"
   ]
  },
  {
   "cell_type": "code",
   "execution_count": 14,
   "metadata": {},
   "outputs": [],
   "source": [
    "ROI = ee.Geometry.Rectangle([-0.3245736,42.6798840,-0.2969361,42.7209728])"
   ]
  },
  {
   "cell_type": "code",
   "execution_count": null,
   "metadata": {},
   "outputs": [],
   "source": [
    "wmp = ee.Image(path_assets + 'WMp_Bubal')\n",
    "img = ee.Image(path_assets + 'Pre_Bubal')\n",
    "\n",
    "cumCost = depthCumulativeCost(wmp,ROI)\n",
    "toExtract = img.addBands(cumCost)"
   ]
  },
  {
   "cell_type": "code",
   "execution_count": null,
   "metadata": {},
   "outputs": [],
   "source": [
    "coords = pd.read_csv(\"../data/phase-II/IDW/Bubal_3.5_wmp.csv\",sep = \" \",usecols = [0,2,3])\n",
    "coords.columns = ['z','x','y']\n",
    "coords = pixelDataFromCoordinates(toExtract,np.array(coords),coordsCols = [1,2])\n",
    "coords.columns = ['z','x','y','B2','B3','B4','B8','CumCost']"
   ]
  },
  {
   "cell_type": "code",
   "execution_count": null,
   "metadata": {},
   "outputs": [],
   "source": [
    "coords = addTransformationsToDataFrame(coords)\n",
    "coords.to_csv(\"../data/phase-II/complete-dataset/data_B.csv\",index = False)"
   ]
  },
  {
   "cell_type": "markdown",
   "metadata": {},
   "source": [
    "### Canelles"
   ]
  },
  {
   "cell_type": "code",
   "execution_count": null,
   "metadata": {},
   "outputs": [],
   "source": [
    "ROI = ee.Geometry.Rectangle([0.5664387,41.9718079,0.7096043,42.1213370])"
   ]
  },
  {
   "cell_type": "code",
   "execution_count": null,
   "metadata": {},
   "outputs": [],
   "source": [
    "wmp = ee.Image(path_assets + 'WMp_Canelles')\n",
    "img = ee.Image(path_assets + 'Pre_Canelles')\n",
    "\n",
    "cumCost = depthCumulativeCost(wmp,ROI)\n",
    "toExtract = img.addBands(cumCost)"
   ]
  },
  {
   "cell_type": "code",
   "execution_count": null,
   "metadata": {},
   "outputs": [],
   "source": [
    "coords = pd.read_csv(\"../data/phase-II/IDW/Canelles_3.5_wmp.csv\",sep = \" \",usecols = [0,2,3])\n",
    "coords.columns = ['z','x','y']\n",
    "coords = pixelDataFromCoordinates(toExtract,np.array(coords),coordsCols = [1,2])\n",
    "coords.columns = ['z','x','y','B2','B3','B4','B8','CumCost']"
   ]
  },
  {
   "cell_type": "code",
   "execution_count": null,
   "metadata": {},
   "outputs": [],
   "source": [
    "coords = addTransformationsToDataFrame(coords)\n",
    "coords.to_csv(\"../data/phase-II/complete-dataset/data_C.csv\",index = False)"
   ]
  },
  {
   "cell_type": "markdown",
   "metadata": {},
   "source": [
    "### Grado"
   ]
  },
  {
   "cell_type": "code",
   "execution_count": null,
   "metadata": {},
   "outputs": [],
   "source": [
    "ROI = ee.Geometry.Rectangle([0.1912200,42.1501858,0.2537043,42.3090388])"
   ]
  },
  {
   "cell_type": "code",
   "execution_count": null,
   "metadata": {},
   "outputs": [],
   "source": [
    "wmp = ee.Image(path_assets + 'WMp_Grado')\n",
    "img = ee.Image(path_assets + 'Pre_Grado')\n",
    "\n",
    "cumCost = depthCumulativeCost(wmp,ROI)\n",
    "toExtract = img.addBands(cumCost)"
   ]
  },
  {
   "cell_type": "code",
   "execution_count": null,
   "metadata": {},
   "outputs": [],
   "source": [
    "coords = pd.read_csv(\"../data/phase-II/IDW/Grado_3.5_wmp.csv\",sep = \" \",usecols = [0,2,3])\n",
    "coords.columns = ['z','x','y']\n",
    "coords = pixelDataFromCoordinates(toExtract,np.array(coords),coordsCols = [1,2])\n",
    "coords.columns = ['z','x','y','B2','B3','B4','B8','CumCost']"
   ]
  },
  {
   "cell_type": "code",
   "execution_count": null,
   "metadata": {},
   "outputs": [],
   "source": [
    "coords = addTransformationsToDataFrame(coords)\n",
    "coords.to_csv(\"../data/phase-II/complete-dataset/data_G.csv\",index = False)"
   ]
  }
 ],
 "metadata": {
  "kernelspec": {
   "display_name": "Python 3",
   "language": "python",
   "name": "python3"
  },
  "language_info": {
   "codemirror_mode": {
    "name": "ipython",
    "version": 3
   },
   "file_extension": ".py",
   "mimetype": "text/x-python",
   "name": "python",
   "nbconvert_exporter": "python",
   "pygments_lexer": "ipython3",
   "version": "3.7.6"
  }
 },
 "nbformat": 4,
 "nbformat_minor": 4
}
