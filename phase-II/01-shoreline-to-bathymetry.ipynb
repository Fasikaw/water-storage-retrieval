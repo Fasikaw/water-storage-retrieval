{
 "cells": [
  {
   "cell_type": "markdown",
   "metadata": {},
   "source": [
    "# Phase II: Shoreline Extraction, Water Mask Coordinates Extraction and Bathymetry Curation"
   ]
  },
  {
   "cell_type": "markdown",
   "metadata": {},
   "source": [
    "Import required modules."
   ]
  },
  {
   "cell_type": "code",
   "execution_count": 1,
   "metadata": {},
   "outputs": [],
   "source": [
    "import numpy as np\n",
    "import ee\n",
    "import pandas as pd"
   ]
  },
  {
   "cell_type": "markdown",
   "metadata": {},
   "source": [
    "Initialize Google Earth Engine."
   ]
  },
  {
   "cell_type": "code",
   "execution_count": 2,
   "metadata": {},
   "outputs": [],
   "source": [
    "ee.Initialize()"
   ]
  },
  {
   "cell_type": "markdown",
   "metadata": {},
   "source": [
    "Path to assets in your GEE."
   ]
  },
  {
   "cell_type": "code",
   "execution_count": 3,
   "metadata": {},
   "outputs": [],
   "source": [
    "path_assets = 'your path here'"
   ]
  },
  {
   "cell_type": "markdown",
   "metadata": {},
   "source": [
    "## Read the Bathymetry File\n",
    "\n",
    "The following function open the bathymetry file, skips first lines (not required lines), and leaves only the required columns (Northing, Easting and Water Depth)."
   ]
  },
  {
   "cell_type": "code",
   "execution_count": null,
   "metadata": {},
   "outputs": [],
   "source": [
    "def loadBathymetry(filePath,delimeter = \"\\t\",usecols = (2,3,5),startLine = 7):\n",
    "\n",
    "    f = open(filePath)\n",
    "    textList = f.readlines()[startLine:]\n",
    "\n",
    "    outF = open(\"bathyTemp.txt\",\"w\")\n",
    "    for line in textList:\n",
    "        line = line.replace(\",\",\".\")\n",
    "        outF.write(line)    \n",
    "    outF.close()\n",
    "\n",
    "    bathy = np.loadtxt(\"bathyTemp.txt\",delimiter = delimeter,usecols = usecols)    \n",
    "    \n",
    "    return bathy"
   ]
  },
  {
   "cell_type": "markdown",
   "metadata": {},
   "source": [
    "## Get the Shoreline Coordinates\n",
    "\n",
    "This function takes a water mask `wm` and a `ROI` and extracts the coordinates from the water mask with the associated water depth (0)."
   ]
  },
  {
   "cell_type": "code",
   "execution_count": null,
   "metadata": {},
   "outputs": [],
   "source": [
    "def getWaterlineCoordinates(wm,ROI,scale = 10):\n",
    "\n",
    "    water_poly = wmt.reduceToVectors(geometry = ROI,scale = scale,eightConnected = False)\n",
    "    water_poly = water_poly.filter(ee.Filter.eq('label',1))\n",
    "    coords = water_poly.geometry().coordinates().getInfo()\n",
    "\n",
    "    waterline = []\n",
    "    if len(np.array(coords[0]).shape) == 3:\n",
    "        for i in range(len(coords)):\n",
    "            for j in range(len(coords[i])):\n",
    "                for k in range(len(coords[i][j])):\n",
    "                    waterline.append(coords[i][j][k])\n",
    "    \n",
    "    elif len(np.array(coords[0]).shape) == 2:\n",
    "        for i in range(len(coords)):\n",
    "            for j in range(len(coords[i])):                \n",
    "                waterline.append(coords[i][j])\n",
    "\n",
    "    waterline = np.array(waterline)\n",
    "    waterline = np.unique(waterline,axis = 0)\n",
    "    depth = np.repeat(0,len(waterline))\n",
    "    depth = np.column_stack((waterline,depth))\n",
    "    \n",
    "    return depth"
   ]
  },
  {
   "cell_type": "markdown",
   "metadata": {},
   "source": [
    "## Get Coordinates from Pixels inside the Water Mask\n",
    "\n",
    "This function extracts coordinates (longitude and latitude) from every pixel inside the water mask `mask` and a `ROI`."
   ]
  },
  {
   "cell_type": "code",
   "execution_count": null,
   "metadata": {},
   "outputs": [],
   "source": [
    "def getLatLonPixels(mask,ROI,scale = 10):    \n",
    "    \n",
    "    lonlat = mask.pixelLonLat().multiply(mask)\n",
    "        \n",
    "    dic = lonlat.reduceRegion(reducer = ee.Reducer.toList(),geometry = ROI,scale = scale).getInfo()\n",
    "    \n",
    "    lat = dic['latitude']\n",
    "    lon = dic['longitude']\n",
    "        \n",
    "    coords = np.array([lon,lat]).T\n",
    "    coords = np.unique(coords,axis = 0)\n",
    "    coords = coords[:len(coords)-1]\n",
    "        \n",
    "    return coords"
   ]
  },
  {
   "cell_type": "markdown",
   "metadata": {},
   "source": [
    "## Data Extraction from Study Cases"
   ]
  },
  {
   "cell_type": "markdown",
   "metadata": {},
   "source": [
    "### Alto-Lindoso"
   ]
  },
  {
   "cell_type": "code",
   "execution_count": 27,
   "metadata": {},
   "outputs": [],
   "source": [
    "ROI = ee.Geometry.Rectangle([-8.2260339,41.8596283,-8.0632989,41.9309290])"
   ]
  },
  {
   "cell_type": "code",
   "execution_count": null,
   "metadata": {},
   "outputs": [],
   "source": [
    "bathy = loadBathymetry(\"../data/bathymetry/bathymetric_data_alto_lindoso\")\n",
    "\n",
    "wmt = ee.Image(path_assets + 'WMt_Alto_Lindoso')\n",
    "wmp = ee.Image(path_assets + 'WMp_Alto_Lindoso')\n",
    "\n",
    "coords_wmp = getLatLonPixels(wmp,ROI)\n",
    "coords_wmt = getLatLonPixels(wmt,ROI)\n",
    "\n",
    "wl = getWaterlineCoordinates(wmt,ROI)\n",
    "\n",
    "np.savetxt(\"../data/phase-II/bathymetry-shoreline/Bat_wl_Alto_Lindoso.csv\", np.vstack((wl,bathy)), delimiter=\",\")\n",
    "np.savetxt(\"../data/phase-II/coordinates-water-mask/Coords_wmp_Alto_Lindoso.csv\",coords_wmp, delimiter=\",\")\n",
    "np.savetxt(\"../data/phase-II/coordinates-water-mask/Coords_wmt_Alto_Lindoso.csv\",coords_wmt, delimiter=\",\")"
   ]
  },
  {
   "cell_type": "markdown",
   "metadata": {},
   "source": [
    "### Bubal"
   ]
  },
  {
   "cell_type": "code",
   "execution_count": 30,
   "metadata": {},
   "outputs": [],
   "source": [
    "ROI = ee.Geometry.Rectangle([-0.3245736,42.6798840,-0.2969361,42.7209728])"
   ]
  },
  {
   "cell_type": "code",
   "execution_count": null,
   "metadata": {},
   "outputs": [],
   "source": [
    "bathy = loadBathymetry(\"../data/bathymetry/bathymetric_data_bubal\")\n",
    "\n",
    "wmt = ee.Image(path_assets + 'WMt_Bubal')\n",
    "wmp = ee.Image(path_assets + 'WMp_Bubal')\n",
    "\n",
    "coords_wmp = getLatLonPixels(wmp,ROI)\n",
    "coords_wmt = getLatLonPixels(wmt,ROI)\n",
    "\n",
    "wl = getWaterlineCoordinates(wmt,ROI,level = 2)\n",
    "\n",
    "np.savetxt(\"../data/phase-II/bathymetry-shoreline/Bat_wl_Bubal.csv\", np.vstack((wl,bathy)), delimiter=\",\")\n",
    "np.savetxt(\"../data/phase-II/coordinates-water-mask/Coords_wmp_Bubal.csv\",coords_wmp, delimiter=\",\")\n",
    "np.savetxt(\"../data/phase-II/coordinates-water-mask/Coords_wmt_Bubal.csv\",coords_wmt, delimiter=\",\")"
   ]
  },
  {
   "cell_type": "markdown",
   "metadata": {},
   "source": [
    "### Canelles"
   ]
  },
  {
   "cell_type": "code",
   "execution_count": null,
   "metadata": {},
   "outputs": [],
   "source": [
    "ROI = ee.Geometry.Rectangle([0.5664387,41.9718079,0.7096043,42.1213370])"
   ]
  },
  {
   "cell_type": "code",
   "execution_count": null,
   "metadata": {},
   "outputs": [],
   "source": [
    "bathy = loadBathymetry(\"../data/bathymetry/bathymetric_data_canelles\")\n",
    "\n",
    "wmt = ee.Image(path_assets + 'WMt_Canelles')\n",
    "wmp = ee.Image(path_assets + 'WMp_Canelles')\n",
    "\n",
    "coords_wmp = getLatLonPixels(wmp,ROI)\n",
    "coords_wmt = getLatLonPixels(wmt,ROI)\n",
    "\n",
    "wl = getWaterlineCoordinates(wmt,ROI)\n",
    "\n",
    "np.savetxt(\"../data/phase-II/bathymetry-shoreline/Bat_wl_Canelles.csv\", np.vstack((wl,bathy)), delimiter=\",\")\n",
    "np.savetxt(\"../data/phase-II/coordinates-water-mask/Coords_wmp_Canelles.csv\",coords_wmp, delimiter=\",\")\n",
    "np.savetxt(\"../data/phase-II/coordinates-water-mask/Coords_wmt_Canelles.csv\",coords_wmt, delimiter=\",\")"
   ]
  },
  {
   "cell_type": "markdown",
   "metadata": {},
   "source": [
    "### Grado"
   ]
  },
  {
   "cell_type": "code",
   "execution_count": null,
   "metadata": {},
   "outputs": [],
   "source": [
    "ROI = ee.Geometry.Rectangle([0.1912200,42.1501858,0.2537043,42.3090388])"
   ]
  },
  {
   "cell_type": "code",
   "execution_count": null,
   "metadata": {},
   "outputs": [],
   "source": [
    "bathy = loadBathymetry(\"../data/bathymetry/bathymetric_data_grado\")\n",
    "\n",
    "wmt = ee.Image(path_assets + 'WMt_Grado')\n",
    "wmp = ee.Image(path_assets + 'WMp_Grado')\n",
    "\n",
    "coords_wmp = getLatLonPixels(wmp,ROI)\n",
    "coords_wmt = getLatLonPixels(wmt,ROI)\n",
    "\n",
    "wl = getWaterlineCoordinates(wmt,ROI)\n",
    "\n",
    "np.savetxt(\"../data/phase-II/bathymetry-shoreline/Bat_wl_Grado.csv\", np.vstack((wl,bathy)), delimiter=\",\")\n",
    "np.savetxt(\"../data/phase-II/coordinates-water-mask/Coords_wmp_Grado.csv\",coords_wmp, delimiter=\",\")\n",
    "np.savetxt(\"../data/phase-II/coordinates-water-mask/Coords_wmt_Grado.csv\",coords_wmt, delimiter=\",\")"
   ]
  }
 ],
 "metadata": {
  "kernelspec": {
   "display_name": "Python 3",
   "language": "python",
   "name": "python3"
  },
  "language_info": {
   "codemirror_mode": {
    "name": "ipython",
    "version": 3
   },
   "file_extension": ".py",
   "mimetype": "text/x-python",
   "name": "python",
   "nbconvert_exporter": "python",
   "pygments_lexer": "ipython3",
   "version": "3.7.6"
  }
 },
 "nbformat": 4,
 "nbformat_minor": 4
}
